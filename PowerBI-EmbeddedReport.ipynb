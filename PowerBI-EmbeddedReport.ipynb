{
 "cells": [
  {
   "cell_type": "markdown",
   "metadata": {},
   "source": [
    "## Traditional method"
   ]
  },
  {
   "cell_type": "code",
   "execution_count": 1,
   "metadata": {},
   "outputs": [
    {
     "data": {
      "text/html": [
       "\n",
       "        <iframe\n",
       "            width=\"800\"\n",
       "            height=\"600\"\n",
       "            src=\"https://app.powerbi.com/reportEmbed?reportId=b53964b5-4014-4d4b-aa21-e2d7c853b575&autoAuth=true&ctid=47446edc-affd-4e7c-bc93-b2907ae98637&config=eyJjbHVzdGVyVXJsIjoiaHR0cHM6Ly93YWJpLWVhc3QtYXNpYS1hLXByaW1hcnktcmVkaXJlY3QuYW5hbHlzaXMud2luZG93cy5uZXQvIn0%3D\"\n",
       "            frameborder=\"0\"\n",
       "            allowfullscreen\n",
       "        ></iframe>\n",
       "        "
      ],
      "text/plain": [
       "<IPython.lib.display.IFrame at 0x1bc9a6202e8>"
      ]
     },
     "execution_count": 1,
     "metadata": {},
     "output_type": "execute_result"
    }
   ],
   "source": [
    "from IPython.display import IFrame\n",
    "\n",
    "powerBiEmbed = 'https://app.powerbi.com/reportEmbed?reportId=b53964b5-4014-4d4b-aa21-e2d7c853b575&autoAuth=true&ctid=47446edc-affd-4e7c-bc93-b2907ae98637&config=eyJjbHVzdGVyVXJsIjoiaHR0cHM6Ly93YWJpLWVhc3QtYXNpYS1hLXByaW1hcnktcmVkaXJlY3QuYW5hbHlzaXMud2luZG93cy5uZXQvIn0%3D'\n",
    "\n",
    "IFrame(powerBiEmbed, width=800, height=600)"
   ]
  },
  {
   "cell_type": "markdown",
   "metadata": {},
   "source": [
    "## Latest method"
   ]
  },
  {
   "cell_type": "code",
   "execution_count": 2,
   "metadata": {},
   "outputs": [],
   "source": [
    "from powerbiclient import Report, models\n",
    "from io import StringIO\n",
    "import pandas as pd"
   ]
  },
  {
   "cell_type": "code",
   "execution_count": 3,
   "metadata": {},
   "outputs": [
    {
     "name": "stdout",
     "output_type": "stream",
     "text": [
      "Performing interactive authentication. Please follow the instructions on the terminal.\n",
      " To sign in, use a web browser to open the page https://microsoft.com/devicelogin and enter the code HFKRW25T6 to authenticate.\n",
      "You have logged in.\n",
      "Interactive authentication successfully completed.\n"
     ]
    }
   ],
   "source": [
    "# Import the DeviceCodeLoginAuthentication class to authenticate against Power BI\n",
    "from powerbiclient.authentication import DeviceCodeLoginAuthentication\n",
    "\n",
    "# Initiate device authentication\n",
    "device_auth = DeviceCodeLoginAuthentication()\n",
    "access_token = device_auth.get_access_token()"
   ]
  },
  {
   "cell_type": "code",
   "execution_count": 5,
   "metadata": {},
   "outputs": [],
   "source": [
    "group_id=\"da31e657-9dce-4853-a0a9-de55ecd2a11a\"\n",
    "report_id=\"b53964b5-4014-4d4b-aa21-e2d7c853b575\""
   ]
  },
  {
   "cell_type": "code",
   "execution_count": 6,
   "metadata": {},
   "outputs": [],
   "source": [
    "report = Report(group_id=group_id, report_id=report_id, access_token = access_token)"
   ]
  },
  {
   "cell_type": "code",
   "execution_count": 7,
   "metadata": {},
   "outputs": [],
   "source": [
    "def loaded_callback(event_details):\n",
    "    print('The report successfully loaded!!')\n",
    "    \n",
    "def error_callback(event_details):\n",
    "    print('error', event_details)\n",
    "    \n",
    "report.on('loaded', loaded_callback)\n",
    "report.on('error', error_callback)"
   ]
  },
  {
   "cell_type": "code",
   "execution_count": 8,
   "metadata": {},
   "outputs": [
    {
     "data": {
      "application/vnd.jupyter.widget-view+json": {
       "model_id": "74f54cd02a414eeea7ae558f31993237",
       "version_major": 2,
       "version_minor": 0
      },
      "text/plain": [
       "Report()"
      ]
     },
     "metadata": {},
     "output_type": "display_data"
    },
    {
     "name": "stdout",
     "output_type": "stream",
     "text": [
      "The report successfully loaded!!\n"
     ]
    }
   ],
   "source": [
    "report"
   ]
  },
  {
   "cell_type": "markdown",
   "metadata": {},
   "source": [
    "# Interact with the report data with Pandas, Numpy etc."
   ]
  },
  {
   "cell_type": "code",
   "execution_count": 9,
   "metadata": {},
   "outputs": [],
   "source": [
    "active_page = report.get_pages()[0]['name']"
   ]
  },
  {
   "cell_type": "code",
   "execution_count": 11,
   "metadata": {},
   "outputs": [],
   "source": [
    "visuals = report.visuals_on_page(active_page)"
   ]
  },
  {
   "cell_type": "code",
   "execution_count": 12,
   "metadata": {},
   "outputs": [
    {
     "data": {
      "text/plain": [
       "[{'name': '74c638411f1d149face0',\n",
       "  'title': 'Count of BIAS_DESC by BIAS_DESC',\n",
       "  'type': 'columnChart',\n",
       "  'layout': {'x': 0,\n",
       "   'y': 123.82284382284382,\n",
       "   'z': 0,\n",
       "   'width': 417.7156177156177,\n",
       "   'height': 271.5151515151515,\n",
       "   'displayState': {'mode': 0}}},\n",
       " {'name': '0495aba3d6ca305e7e48',\n",
       "  'title': 'Count of OFFENSE_NAME and Current Year by OFFENSE_NAME',\n",
       "  'type': 'donutChart',\n",
       "  'layout': {'x': 736.969696969697,\n",
       "   'y': 453.5198135198135,\n",
       "   'z': 1000,\n",
       "   'width': 543.030303030303,\n",
       "   'height': 213.33333333333334,\n",
       "   'displayState': {'mode': 0}}},\n",
       " {'name': '094d3f42aeba198cd36a',\n",
       "  'type': 'textbox',\n",
       "  'layout': {'x': 0,\n",
       "   'y': 454,\n",
       "   'z': 2000,\n",
       "   'width': 373,\n",
       "   'height': 213,\n",
       "   'displayState': {'mode': 0}}},\n",
       " {'name': 'f067fa5f011935eab287',\n",
       "  'title': 'INCIDENT_ID by Year',\n",
       "  'type': 'areaChart',\n",
       "  'layout': {'x': 474.4055944055944,\n",
       "   'y': 210.34965034965035,\n",
       "   'z': 3000,\n",
       "   'width': 805.5944055944057,\n",
       "   'height': 146.2004662004662,\n",
       "   'displayState': {'mode': 0}}},\n",
       " {'name': 'bf7c2864566084cb73e5',\n",
       "  'type': 'slicer',\n",
       "  'layout': {'x': 956.2703962703963,\n",
       "   'y': 123.82284382284382,\n",
       "   'z': 4000,\n",
       "   'width': 323.72960372960375,\n",
       "   'height': 86.52680652680652,\n",
       "   'displayState': {'mode': 0}}},\n",
       " {'name': '1d847513bb3cc908505a',\n",
       "  'type': 'card',\n",
       "  'layout': {'x': 767.6595744680851,\n",
       "   'y': 122.5531914893617,\n",
       "   'z': 5000,\n",
       "   'width': 134.46808510638297,\n",
       "   'height': 78.29787234042553,\n",
       "   'displayState': {'mode': 0}}},\n",
       " {'name': '8657961aa3385a010a7d',\n",
       "  'title': 'Count of STATE_NAME by STATE_NAME',\n",
       "  'type': 'treemap',\n",
       "  'layout': {'x': 0,\n",
       "   'y': 453.5198135198135,\n",
       "   'z': 6001,\n",
       "   'width': 768.2983682983684,\n",
       "   'height': 213.33333333333334,\n",
       "   'displayState': {'mode': 0}}}]"
      ]
     },
     "execution_count": 12,
     "metadata": {},
     "output_type": "execute_result"
    }
   ],
   "source": [
    "visuals"
   ]
  },
  {
   "cell_type": "code",
   "execution_count": 13,
   "metadata": {},
   "outputs": [],
   "source": [
    "visual = next(filter(lambda visuals: visuals['type'] == 'areaChart', visuals))"
   ]
  },
  {
   "cell_type": "code",
   "execution_count": 14,
   "metadata": {},
   "outputs": [],
   "source": [
    "visual_name = visual['name']"
   ]
  },
  {
   "cell_type": "code",
   "execution_count": 15,
   "metadata": {},
   "outputs": [
    {
     "data": {
      "text/plain": [
       "'f067fa5f011935eab287'"
      ]
     },
     "execution_count": 15,
     "metadata": {},
     "output_type": "execute_result"
    }
   ],
   "source": [
    "visual_name"
   ]
  },
  {
   "cell_type": "code",
   "execution_count": 16,
   "metadata": {},
   "outputs": [],
   "source": [
    "summ_data = report.export_visual_data(active_page, visual_name, rows=51)\n",
    "data = StringIO(summ_data)"
   ]
  },
  {
   "cell_type": "code",
   "execution_count": 17,
   "metadata": {},
   "outputs": [],
   "source": [
    "df = pd.read_csv(data, sep=\",\")"
   ]
  },
  {
   "cell_type": "code",
   "execution_count": 18,
   "metadata": {},
   "outputs": [
    {
     "data": {
      "text/html": [
       "<div>\n",
       "<style scoped>\n",
       "    .dataframe tbody tr th:only-of-type {\n",
       "        vertical-align: middle;\n",
       "    }\n",
       "\n",
       "    .dataframe tbody tr th {\n",
       "        vertical-align: top;\n",
       "    }\n",
       "\n",
       "    .dataframe thead th {\n",
       "        text-align: right;\n",
       "    }\n",
       "</style>\n",
       "<table border=\"1\" class=\"dataframe\">\n",
       "  <thead>\n",
       "    <tr style=\"text-align: right;\">\n",
       "      <th></th>\n",
       "      <th>Year</th>\n",
       "      <th>INCIDENT_ID</th>\n",
       "      <th>Earliest Date</th>\n",
       "    </tr>\n",
       "  </thead>\n",
       "  <tbody>\n",
       "    <tr>\n",
       "      <th>0</th>\n",
       "      <td>2014</td>\n",
       "      <td>5599</td>\n",
       "      <td>2014-01-01 00:00:00</td>\n",
       "    </tr>\n",
       "    <tr>\n",
       "      <th>1</th>\n",
       "      <td>2015</td>\n",
       "      <td>5879</td>\n",
       "      <td>2015-01-01 00:00:00</td>\n",
       "    </tr>\n",
       "    <tr>\n",
       "      <th>2</th>\n",
       "      <td>2016</td>\n",
       "      <td>6273</td>\n",
       "      <td>2016-01-01 00:00:00</td>\n",
       "    </tr>\n",
       "    <tr>\n",
       "      <th>3</th>\n",
       "      <td>2017</td>\n",
       "      <td>7325</td>\n",
       "      <td>2017-01-01 00:00:00</td>\n",
       "    </tr>\n",
       "    <tr>\n",
       "      <th>4</th>\n",
       "      <td>2018</td>\n",
       "      <td>7189</td>\n",
       "      <td>2018-01-01 00:00:00</td>\n",
       "    </tr>\n",
       "    <tr>\n",
       "      <th>5</th>\n",
       "      <td>2019</td>\n",
       "      <td>8028</td>\n",
       "      <td>2019-01-01 00:00:00</td>\n",
       "    </tr>\n",
       "  </tbody>\n",
       "</table>\n",
       "</div>"
      ],
      "text/plain": [
       "   Year  INCIDENT_ID        Earliest Date\n",
       "0  2014         5599  2014-01-01 00:00:00\n",
       "1  2015         5879  2015-01-01 00:00:00\n",
       "2  2016         6273  2016-01-01 00:00:00\n",
       "3  2017         7325  2017-01-01 00:00:00\n",
       "4  2018         7189  2018-01-01 00:00:00\n",
       "5  2019         8028  2019-01-01 00:00:00"
      ]
     },
     "execution_count": 18,
     "metadata": {},
     "output_type": "execute_result"
    }
   ],
   "source": [
    "df"
   ]
  },
  {
   "cell_type": "code",
   "execution_count": 16,
   "metadata": {},
   "outputs": [],
   "source": [
    "%matplotlib inline"
   ]
  },
  {
   "cell_type": "code",
   "execution_count": 19,
   "metadata": {},
   "outputs": [],
   "source": [
    "def filter_report(BIAS_DESC):\n",
    "    year_filter = {\n",
    "        '$schema': \"http://powerbi.com/product/schema#advanced\",\n",
    "        'target': {\n",
    "            'table': \"hate_crime-csv-2-csv\",\n",
    "            'column': \"BIAS_DESC\"\n",
    "        },\n",
    "        'operator': \"In\",\n",
    "        'values': [BIAS_DESC]\n",
    "    }\n",
    "    \n",
    "    report.remove_filters()\n",
    "    report.update_filters([year_filter])"
   ]
  },
  {
   "cell_type": "code",
   "execution_count": 20,
   "metadata": {},
   "outputs": [],
   "source": [
    "from ipywidgets import interact"
   ]
  },
  {
   "cell_type": "code",
   "execution_count": 21,
   "metadata": {},
   "outputs": [
    {
     "data": {
      "application/vnd.jupyter.widget-view+json": {
       "model_id": "9f92268613e343efac88ba0eaedd10ba",
       "version_major": 2,
       "version_minor": 0
      },
      "text/plain": [
       "interactive(children=(Dropdown(description='BIAS_DESC', options=('Anti-Jewish', 'Anti-White'), value='Anti-Jew…"
      ]
     },
     "metadata": {},
     "output_type": "display_data"
    },
    {
     "data": {
      "text/plain": [
       "<function __main__.filter_report(BIAS_DESC)>"
      ]
     },
     "execution_count": 21,
     "metadata": {},
     "output_type": "execute_result"
    }
   ],
   "source": [
    "interact(filter_report, BIAS_DESC = ['Anti-Jewish', 'Anti-White'])"
   ]
  },
  {
   "cell_type": "code",
   "execution_count": 23,
   "metadata": {},
   "outputs": [
    {
     "data": {
      "application/vnd.jupyter.widget-view+json": {
       "model_id": "74f54cd02a414eeea7ae558f31993237",
       "version_major": 2,
       "version_minor": 0
      },
      "text/plain": [
       "Report()"
      ]
     },
     "metadata": {},
     "output_type": "display_data"
    },
    {
     "name": "stdout",
     "output_type": "stream",
     "text": [
      "The report successfully loaded!!\n"
     ]
    }
   ],
   "source": [
    "report"
   ]
  },
  {
   "cell_type": "code",
   "execution_count": null,
   "metadata": {},
   "outputs": [],
   "source": []
  }
 ],
 "metadata": {
  "kernelspec": {
   "display_name": "Python 3",
   "language": "python",
   "name": "python3"
  },
  "language_info": {
   "codemirror_mode": {
    "name": "ipython",
    "version": 3
   },
   "file_extension": ".py",
   "mimetype": "text/x-python",
   "name": "python",
   "nbconvert_exporter": "python",
   "pygments_lexer": "ipython3",
   "version": "3.7.3"
  }
 },
 "nbformat": 4,
 "nbformat_minor": 2
}
